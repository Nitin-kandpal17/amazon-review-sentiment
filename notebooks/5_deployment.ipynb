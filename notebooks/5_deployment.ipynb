{
 "cells": [
  {
   "cell_type": "markdown",
   "id": "2cc6fa48",
   "metadata": {},
   "source": [
    "# Day 5 – Deployment with FastAPI\n",
    "\n",
    "**Goal:** Deploy the Naive Bayes sentiment classifier as a REST API using FastAPI.\n"
   ]
  },
  {
   "cell_type": "markdown",
   "id": "cb1b869d",
   "metadata": {},
   "source": [
    "## Setup Instructions\n",
    "\n",
    "Install FastAPI and Uvicorn inside your environment:\n",
    "\n",
    "```bash\n",
    "pip install fastapi uvicorn\n"
   ]
  },
  {
   "cell_type": "markdown",
   "id": "e6d1e6e6",
   "metadata": {},
   "source": [
    "Start the API server from terminal:\n",
    "\n",
    "```bash\n",
    "uvicorn api.app:app --reload\n"
   ]
  },
  {
   "cell_type": "markdown",
   "id": "10cdabd3",
   "metadata": {},
   "source": [
    "Then go to: http://127.0.0.1:8000/docs"
   ]
  },
  {
   "cell_type": "markdown",
   "id": "9c2e2a81",
   "metadata": {},
   "source": [
    "### 🔹 **What the API Does**\n",
    "\n",
    "## API Overview\n",
    "\n",
    "- **GET /** → Welcome message\n",
    "- **POST /predict** → Accepts raw review text and returns sentiment prediction:\n",
    "    - `0` = Negative\n",
    "    - `1` = Neutral\n",
    "    - `2` = Positive"
   ]
  },
  {
   "cell_type": "code",
   "execution_count": 2,
   "id": "6b1452be",
   "metadata": {},
   "outputs": [
    {
     "name": "stdout",
     "output_type": "stream",
     "text": [
      "{'text': 'The product is amazing and works really well.', 'predicted_class': 2, 'sentiment': 'Positive'}\n"
     ]
    }
   ],
   "source": [
    "import requests\n",
    "\n",
    "url = \"http://127.0.0.1:8000/predict\"\n",
    "payload = {\"text\": \"The product is amazing and works really well.\"}\n",
    "\n",
    "response = requests.post(url, json=payload)\n",
    "print(response.json())\n"
   ]
  },
  {
   "cell_type": "markdown",
   "id": "dc0b02fb",
   "metadata": {},
   "source": [
    "## Output Interpretation\n",
    "\n",
    "The API returns:\n",
    "- The original text\n",
    "- The predicted class index (0/1/2)\n",
    "- A human-readable sentiment label (\"Negative\", \"Neutral\", \"Positive\")\n"
   ]
  },
  {
   "cell_type": "markdown",
   "id": "f6e1bada",
   "metadata": {},
   "source": [
    "## ✅ Summary\n",
    "\n",
    "- FastAPI was used to deploy the trained sentiment model\n",
    "- API was tested using Swagger UI and Python client\n",
    "- The `/predict` route correctly identifies review sentiment\n"
   ]
  },
  {
   "cell_type": "code",
   "execution_count": null,
   "id": "b4dcdbbb",
   "metadata": {},
   "outputs": [],
   "source": []
  }
 ],
 "metadata": {
  "kernelspec": {
   "display_name": "sentiment-nlp",
   "language": "python",
   "name": "python3"
  },
  "language_info": {
   "codemirror_mode": {
    "name": "ipython",
    "version": 3
   },
   "file_extension": ".py",
   "mimetype": "text/x-python",
   "name": "python",
   "nbconvert_exporter": "python",
   "pygments_lexer": "ipython3",
   "version": "3.10.18"
  }
 },
 "nbformat": 4,
 "nbformat_minor": 5
}
