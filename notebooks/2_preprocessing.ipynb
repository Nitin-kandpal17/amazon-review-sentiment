{
 "cells": [
  {
   "cell_type": "markdown",
   "id": "27b3f835",
   "metadata": {},
   "source": [
    "# Day 2 – Text Preprocessing & Lemmatization\n",
    "\n",
    "**Goal:** Clean and lemmatize the text data from raw Amazon reviews to prepare for model training.\n"
   ]
  },
  {
   "cell_type": "code",
   "execution_count": 1,
   "id": "22777e16",
   "metadata": {},
   "outputs": [],
   "source": [
    "import pandas as pd\n",
    "import spacy\n",
    "import nltk\n",
    "import re\n",
    "from nltk.corpus import stopwords\n",
    "from tqdm import tqdm\n",
    "import json\n"
   ]
  },
  {
   "cell_type": "markdown",
   "id": "d96592b6",
   "metadata": {},
   "source": [
    "## Setup NLP Tools\n",
    "\n",
    "- Download NLTK stopwords\n",
    "- Load SpaCy English model (`en_core_web_sm`)\n"
   ]
  },
  {
   "cell_type": "code",
   "execution_count": 2,
   "id": "70265d22",
   "metadata": {},
   "outputs": [
    {
     "name": "stderr",
     "output_type": "stream",
     "text": [
      "[nltk_data] Downloading package stopwords to\n",
      "[nltk_data]     C:\\Users\\nitis\\AppData\\Roaming\\nltk_data...\n",
      "[nltk_data]   Package stopwords is already up-to-date!\n"
     ]
    },
    {
     "name": "stdout",
     "output_type": "stream",
     "text": [
      "Downloading SpaCy model...\n"
     ]
    }
   ],
   "source": [
    "nltk.download('stopwords')\n",
    "stop_words = set(stopwords.words('english'))\n",
    "\n",
    "# Load SpaCy\n",
    "try:\n",
    "    nlp = spacy.load(\"en_core_web_sm\")\n",
    "except:\n",
    "    print(\"Downloading SpaCy model...\")\n",
    "    import os\n",
    "    os.system(\"python -m spacy download en_core_web_sm\")\n",
    "    nlp = spacy.load(\"en_core_web_sm\")\n"
   ]
  },
  {
   "cell_type": "markdown",
   "id": "56b1901e",
   "metadata": {},
   "source": [
    "## Load Raw Dataset\n",
    "We’ll load `raw_reviews.csv` and only use the `Text` and `Score` columns for now.\n"
   ]
  },
  {
   "cell_type": "code",
   "execution_count": 3,
   "id": "600fd2bd",
   "metadata": {},
   "outputs": [
    {
     "data": {
      "text/html": [
       "<div>\n",
       "<style scoped>\n",
       "    .dataframe tbody tr th:only-of-type {\n",
       "        vertical-align: middle;\n",
       "    }\n",
       "\n",
       "    .dataframe tbody tr th {\n",
       "        vertical-align: top;\n",
       "    }\n",
       "\n",
       "    .dataframe thead th {\n",
       "        text-align: right;\n",
       "    }\n",
       "</style>\n",
       "<table border=\"1\" class=\"dataframe\">\n",
       "  <thead>\n",
       "    <tr style=\"text-align: right;\">\n",
       "      <th></th>\n",
       "      <th>Text</th>\n",
       "      <th>Score</th>\n",
       "    </tr>\n",
       "  </thead>\n",
       "  <tbody>\n",
       "    <tr>\n",
       "      <th>0</th>\n",
       "      <td>I have bought several of the Vitality canned d...</td>\n",
       "      <td>5</td>\n",
       "    </tr>\n",
       "    <tr>\n",
       "      <th>1</th>\n",
       "      <td>Product arrived labeled as Jumbo Salted Peanut...</td>\n",
       "      <td>1</td>\n",
       "    </tr>\n",
       "    <tr>\n",
       "      <th>2</th>\n",
       "      <td>This is a confection that has been around a fe...</td>\n",
       "      <td>4</td>\n",
       "    </tr>\n",
       "    <tr>\n",
       "      <th>3</th>\n",
       "      <td>If you are looking for the secret ingredient i...</td>\n",
       "      <td>2</td>\n",
       "    </tr>\n",
       "    <tr>\n",
       "      <th>4</th>\n",
       "      <td>Great taffy at a great price.  There was a wid...</td>\n",
       "      <td>5</td>\n",
       "    </tr>\n",
       "  </tbody>\n",
       "</table>\n",
       "</div>"
      ],
      "text/plain": [
       "                                                Text  Score\n",
       "0  I have bought several of the Vitality canned d...      5\n",
       "1  Product arrived labeled as Jumbo Salted Peanut...      1\n",
       "2  This is a confection that has been around a fe...      4\n",
       "3  If you are looking for the secret ingredient i...      2\n",
       "4  Great taffy at a great price.  There was a wid...      5"
      ]
     },
     "execution_count": 3,
     "metadata": {},
     "output_type": "execute_result"
    }
   ],
   "source": [
    "df = pd.read_csv(\"../data/raw_reviews.csv\")\n",
    "df = df[['Text', 'Score']]\n",
    "df.dropna(inplace=True)\n",
    "df.head()\n"
   ]
  },
  {
   "cell_type": "markdown",
   "id": "37c935f0",
   "metadata": {},
   "source": [
    "## Text Cleaning + Lemmatization\n",
    "\n",
    "We’ll:\n",
    "- Lowercase text\n",
    "- Remove special characters\n",
    "- Remove stopwords\n",
    "- Lemmatize using spaCy\n"
   ]
  },
  {
   "cell_type": "code",
   "execution_count": 4,
   "id": "60a84457",
   "metadata": {},
   "outputs": [],
   "source": [
    "def clean_and_lemmatize(text):\n",
    "    text = text.lower()\n",
    "    text = re.sub(r'[^a-zA-Z\\s]', '', text)\n",
    "\n",
    "    doc = nlp(text)\n",
    "    lemmas = [token.lemma_ for token in doc if token.lemma_ not in stop_words and token.lemma_.strip() != \"\"]\n",
    "    \n",
    "    return \" \".join(lemmas)\n"
   ]
  },
  {
   "cell_type": "code",
   "execution_count": 5,
   "id": "2580a17d",
   "metadata": {},
   "outputs": [
    {
     "name": "stderr",
     "output_type": "stream",
     "text": [
      "100%|██████████| 568454/568454 [13:54:40<00:00, 11.35it/s]       \n"
     ]
    },
    {
     "data": {
      "text/html": [
       "<div>\n",
       "<style scoped>\n",
       "    .dataframe tbody tr th:only-of-type {\n",
       "        vertical-align: middle;\n",
       "    }\n",
       "\n",
       "    .dataframe tbody tr th {\n",
       "        vertical-align: top;\n",
       "    }\n",
       "\n",
       "    .dataframe thead th {\n",
       "        text-align: right;\n",
       "    }\n",
       "</style>\n",
       "<table border=\"1\" class=\"dataframe\">\n",
       "  <thead>\n",
       "    <tr style=\"text-align: right;\">\n",
       "      <th></th>\n",
       "      <th>clean_text</th>\n",
       "      <th>Score</th>\n",
       "    </tr>\n",
       "  </thead>\n",
       "  <tbody>\n",
       "    <tr>\n",
       "      <th>0</th>\n",
       "      <td>I buy several vitality dog food product find g...</td>\n",
       "      <td>5</td>\n",
       "    </tr>\n",
       "    <tr>\n",
       "      <th>1</th>\n",
       "      <td>product arrived label jumbo salt peanutsthe pe...</td>\n",
       "      <td>1</td>\n",
       "    </tr>\n",
       "    <tr>\n",
       "      <th>2</th>\n",
       "      <td>confection around century light pillowy citrus...</td>\n",
       "      <td>4</td>\n",
       "    </tr>\n",
       "    <tr>\n",
       "      <th>3</th>\n",
       "      <td>look secret ingredient robitussin I believe I ...</td>\n",
       "      <td>2</td>\n",
       "    </tr>\n",
       "    <tr>\n",
       "      <th>4</th>\n",
       "      <td>great taffy great price wide assortment yummy ...</td>\n",
       "      <td>5</td>\n",
       "    </tr>\n",
       "  </tbody>\n",
       "</table>\n",
       "</div>"
      ],
      "text/plain": [
       "                                          clean_text  Score\n",
       "0  I buy several vitality dog food product find g...      5\n",
       "1  product arrived label jumbo salt peanutsthe pe...      1\n",
       "2  confection around century light pillowy citrus...      4\n",
       "3  look secret ingredient robitussin I believe I ...      2\n",
       "4  great taffy great price wide assortment yummy ...      5"
      ]
     },
     "execution_count": 5,
     "metadata": {},
     "output_type": "execute_result"
    }
   ],
   "source": [
    "tqdm.pandas()\n",
    "df['clean_text'] = df['Text'].progress_apply(clean_and_lemmatize)\n",
    "df[['clean_text', 'Score']].head()\n"
   ]
  },
  {
   "cell_type": "markdown",
   "id": "6ab94766",
   "metadata": {},
   "source": [
    "## Save Cleaned Corpus\n",
    "\n",
    "We’ll save it as `cleaned_reviews.json` in `data/` directory.\n"
   ]
  },
  {
   "cell_type": "code",
   "execution_count": 6,
   "id": "646d455e",
   "metadata": {},
   "outputs": [
    {
     "name": "stdout",
     "output_type": "stream",
     "text": [
      "✅ Cleaned reviews saved to data/cleaned_reviews.json\n"
     ]
    }
   ],
   "source": [
    "output = df[['clean_text', 'Score']].to_dict(orient='records')\n",
    "\n",
    "with open(\"../data/cleaned_reviews.json\", \"w\") as f:\n",
    "    json.dump(output, f)\n",
    "\n",
    "print(\"✅ Cleaned reviews saved to data/cleaned_reviews.json\")\n"
   ]
  },
  {
   "cell_type": "markdown",
   "id": "983095e1",
   "metadata": {},
   "source": [
    "## ✅ Summary\n",
    "\n",
    "- Loaded raw reviews and selected relevant fields\n",
    "- Preprocessed and lemmatized text using spaCy\n",
    "- Removed punctuation and stopwords\n",
    "- Saved clean corpus for modeling\n"
   ]
  },
  {
   "cell_type": "markdown",
   "id": "2522e1b0",
   "metadata": {},
   "source": []
  }
 ],
 "metadata": {
  "kernelspec": {
   "display_name": "sentiment-nlp",
   "language": "python",
   "name": "python3"
  },
  "language_info": {
   "codemirror_mode": {
    "name": "ipython",
    "version": 3
   },
   "file_extension": ".py",
   "mimetype": "text/x-python",
   "name": "python",
   "nbconvert_exporter": "python",
   "pygments_lexer": "ipython3",
   "version": "3.10.18"
  }
 },
 "nbformat": 4,
 "nbformat_minor": 5
}
